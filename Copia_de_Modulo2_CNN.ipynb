{
  "nbformat": 4,
  "nbformat_minor": 0,
  "metadata": {
    "colab": {
      "provenance": [],
      "gpuType": "T4"
    },
    "kernelspec": {
      "name": "python3",
      "display_name": "Python 3"
    },
    "language_info": {
      "name": "python"
    },
    "accelerator": "GPU"
  },
  "cells": [
    {
      "cell_type": "markdown",
      "source": [
        "\n",
        "\n",
        "# ***Modulo 2***\n",
        "Sebastián Burgos Alanís A01746459\n",
        "\n",
        "CNN con Keras, modelo predictivo para tumores cerebrales\n",
        "\n",
        "[Kaggle DB](https://www.kaggle.com/datasets/navoneel/brain-mri-images-for-brain-tumor-detection)\n",
        "\n",
        "El Colab está dividido en 6 secciones:\n",
        "\n",
        "***Procesamiento del DataSet***\n",
        "  - Se procesa el dataset, se modifican las terminaciones de las imagenes y se establece un tamaño 128,128 y 3 colores RGB\n",
        "\n",
        "**Construccion del Modelo**\n",
        " - Se entrena el modelo y se aplican parametros como binary_crosetopy\n",
        " - Se muestra matriz de confusion y gráfica de pérdida\n",
        "\n",
        "***Revision del Modelo***\n",
        " - Se corre una muestra individual para tumor 0 y 1\n",
        "\n",
        "***Resultados del Problema***\n",
        " - Se muestran los resultados del primer modelo\n",
        "\n",
        "***Cambios Realizados***\n",
        " - Se indican los cambios realizados para ajustar el modelo previo.\n",
        "\n",
        "***Posibles Mejoras***\n",
        " - Se realizan cambios en el modelo como:\n",
        "  * modificación de prámetros.\n",
        "  * resultados nuevos."
      ],
      "metadata": {
        "id": "x10wJSpxGVOn"
      }
    },
    {
      "cell_type": "markdown",
      "source": [
        "# ***Procesamiento DB***"
      ],
      "metadata": {
        "id": "E_M1Cy9yXt6Q"
      }
    },
    {
      "cell_type": "code",
      "execution_count": 1,
      "metadata": {
        "id": "tBDc7DrM4-ac"
      },
      "outputs": [],
      "source": [
        "import os\n",
        "import keras\n",
        "import numpy as np\n",
        "import pandas as pd\n",
        "from google.colab import drive\n",
        "from PIL import Image\n",
        "from keras.models import Sequential\n",
        "from keras.layers import Conv2D, MaxPooling2D, Flatten, Dense, Dropout, BatchNormalization\n",
        "import matplotlib.pyplot as plt\n",
        "from sklearn.model_selection import train_test_split\n",
        "from sklearn.preprocessing import OneHotEncoder, LabelEncoder\n",
        "from sklearn.metrics import accuracy_score\n"
      ]
    },
    {
      "cell_type": "code",
      "source": [
        "drive.mount(\"/content/gdrive\")\n",
        "!pwd\n",
        "%cd \"/content/gdrive/MyDrive/ENTREGABLE_CNN/brain_tumor_dataset\"\n",
        "!ls"
      ],
      "metadata": {
        "colab": {
          "base_uri": "https://localhost:8080/"
        },
        "id": "qzUxwloD5kAq",
        "outputId": "3f0feaea-dd65-468c-eeb5-188e5f314e35"
      },
      "execution_count": 2,
      "outputs": [
        {
          "output_type": "stream",
          "name": "stdout",
          "text": [
            "Mounted at /content/gdrive\n",
            "/content\n",
            "/content/gdrive/MyDrive/ENTREGABLE_CNN/brain_tumor_dataset\n",
            "brain_tumor_dataset  no  yes\n"
          ]
        }
      ]
    },
    {
      "cell_type": "code",
      "source": [
        "label_encoder = LabelEncoder()\n",
        "label_encoder.fit([0, 1])\n",
        "\n",
        "encoder = OneHotEncoder(sparse=False)\n",
        "encoder.fit(label_encoder.transform([0, 1]).reshape(-1, 1))\n",
        "\n",
        "data = []\n",
        "result = []\n",
        "\n",
        "# Procesamiento de imágenes y su label encode a tumores (0) y no tumores (1)\n",
        "\n",
        "def Imagenes_procesamiento(image_folder, label):\n",
        "    paths = []\n",
        "    for filename in os.listdir(image_folder):\n",
        "        if filename.lower().endswith((\".jpg\", \".jpeg\")):\n",
        "            new_filename = os.path.splitext(filename)[0] + \".jpg\"\n",
        "            new_path = os.path.join(image_folder, new_filename)\n",
        "            os.rename(os.path.join(image_folder, filename), new_path)\n",
        "            paths.append(new_path)\n",
        "\n",
        "    # Procesar todas las imágenes y estadnarizar el tamaño\n",
        "    # Hacer un arreglo Numpy con las imagenes y crear un label_encoder\n",
        "    for path in paths:\n",
        "        img = Image.open(path)\n",
        "        img = img.resize((128, 128))\n",
        "        img = np.array(img)\n",
        "        if img.shape == (128, 128, 3):\n",
        "            data.append(np.array(img))\n",
        "            label_encoded = label_encoder.transform([label]).reshape(-1, 1)\n",
        "            one_hot_label = encoder.transform(label_encoded)\n",
        "            result.append(one_hot_label[0])\n",
        "\n",
        "Imagenes_yes = \"/content/gdrive/MyDrive/ENTREGABLE_CNN/brain_tumor_dataset/yes\"\n",
        "Imagenes_no = \"/content/gdrive/MyDrive/ENTREGABLE_CNN/brain_tumor_dataset/no\"\n",
        "\n",
        "# Prcesamiento de Imágenes para tumores y noTumores\n",
        "Imagenes_procesamiento(Imagenes_yes, label=0)\n",
        "Imagenes_procesamiento(Imagenes_no, label=1)\n",
        "\n",
        "data = np.array(data)\n",
        "result = np.array(result)\n",
        "\n",
        "print(\"Data Shape:\", data.shape, \"Result Shape\", result.shape)\n"
      ],
      "metadata": {
        "colab": {
          "base_uri": "https://localhost:8080/"
        },
        "id": "dtpbJHhoBUY7",
        "outputId": "28dd5ee8-4a83-4115-eff8-637154b968f5"
      },
      "execution_count": 4,
      "outputs": [
        {
          "output_type": "stream",
          "name": "stderr",
          "text": [
            "/usr/local/lib/python3.10/dist-packages/sklearn/preprocessing/_encoders.py:868: FutureWarning: `sparse` was renamed to `sparse_output` in version 1.2 and will be removed in 1.4. `sparse_output` is ignored unless you leave `sparse` to its default value.\n",
            "  warnings.warn(\n"
          ]
        },
        {
          "output_type": "stream",
          "name": "stdout",
          "text": [
            "Data Shape: (216, 128, 128, 3) Result Shape (216, 2)\n"
          ]
        }
      ]
    },
    {
      "cell_type": "code",
      "source": [
        "x_train,x_test,y_train,y_test = train_test_split(data, result, test_size=0.2, shuffle=True, random_state=42)"
      ],
      "metadata": {
        "id": "HSU98M6zyyvP"
      },
      "execution_count": 17,
      "outputs": []
    },
    {
      "cell_type": "markdown",
      "source": [
        "# **Cambios de parámetros y posibles mejoras**\n",
        "\n",
        "Accuracy: 79%"
      ],
      "metadata": {
        "id": "SPDEksts-unZ"
      }
    },
    {
      "cell_type": "code",
      "source": [
        "from keras.optimizers import Adam\n",
        "\n",
        "# Further reduce model complexity\n",
        "model = Sequential()\n",
        "model.add(Conv2D(32, kernel_size=(3, 3), input_shape=(128, 128, 3), activation='relu'))\n",
        "model.add(MaxPooling2D(pool_size=(2, 2)))\n",
        "model.add(Flatten())\n",
        "model.add(Dense(128, activation='relu'))\n",
        "model.add(Dropout(0.5))\n",
        "model.add(Dense(2, activation='softmax'))\n",
        "\n",
        "model.compile(loss='binary_crossentropy', optimizer=Adam(learning_rate=0.001), metrics=['accuracy'])\n",
        "\n",
        "model.summary()\n"
      ],
      "metadata": {
        "colab": {
          "base_uri": "https://localhost:8080/"
        },
        "id": "qFPx8DQBBPMg",
        "outputId": "1e70b865-755e-45d4-a460-4a94626a36bb"
      },
      "execution_count": 61,
      "outputs": [
        {
          "output_type": "stream",
          "name": "stdout",
          "text": [
            "Model: \"sequential_9\"\n",
            "_________________________________________________________________\n",
            " Layer (type)                Output Shape              Param #   \n",
            "=================================================================\n",
            " conv2d_21 (Conv2D)          (None, 126, 126, 32)      896       \n",
            "                                                                 \n",
            " max_pooling2d_12 (MaxPooli  (None, 63, 63, 32)        0         \n",
            " ng2D)                                                           \n",
            "                                                                 \n",
            " flatten_8 (Flatten)         (None, 127008)            0         \n",
            "                                                                 \n",
            " dense_20 (Dense)            (None, 128)               16257152  \n",
            "                                                                 \n",
            " dropout_14 (Dropout)        (None, 128)               0         \n",
            "                                                                 \n",
            " dense_21 (Dense)            (None, 2)                 258       \n",
            "                                                                 \n",
            "=================================================================\n",
            "Total params: 16258306 (62.02 MB)\n",
            "Trainable params: 16258306 (62.02 MB)\n",
            "Non-trainable params: 0 (0.00 Byte)\n",
            "_________________________________________________________________\n"
          ]
        }
      ]
    },
    {
      "cell_type": "code",
      "source": [
        "y_train.shape"
      ],
      "metadata": {
        "colab": {
          "base_uri": "https://localhost:8080/"
        },
        "id": "6l4UbB07DfGd",
        "outputId": "bba88aea-f923-4ebd-aedd-03375c8cd4eb"
      },
      "execution_count": 62,
      "outputs": [
        {
          "output_type": "execute_result",
          "data": {
            "text/plain": [
              "(172, 2)"
            ]
          },
          "metadata": {},
          "execution_count": 62
        }
      ]
    },
    {
      "cell_type": "code",
      "source": [
        "from keras.callbacks import EarlyStopping\n",
        "\n",
        "early_stopping = EarlyStopping(monitor='val_loss', patience=6, restore_best_weights=True)\n",
        "\n",
        "history = model.fit(x_train, y_train, epochs=30, batch_size=20,\n",
        "                    verbose=1, validation_data=(x_test, y_test),\n",
        "                    callbacks=[early_stopping])"
      ],
      "metadata": {
        "colab": {
          "base_uri": "https://localhost:8080/"
        },
        "id": "TOOMg7M-DgQN",
        "outputId": "73d1589b-1d86-49c0-de33-dae00bd11912"
      },
      "execution_count": 63,
      "outputs": [
        {
          "output_type": "stream",
          "name": "stdout",
          "text": [
            "Epoch 1/30\n",
            "9/9 [==============================] - 1s 50ms/step - loss: 425.3557 - accuracy: 0.5698 - val_loss: 130.7593 - val_accuracy: 0.7045\n",
            "Epoch 2/30\n",
            "9/9 [==============================] - 0s 26ms/step - loss: 130.3850 - accuracy: 0.6744 - val_loss: 98.3455 - val_accuracy: 0.7045\n",
            "Epoch 3/30\n",
            "9/9 [==============================] - 0s 26ms/step - loss: 38.1794 - accuracy: 0.8140 - val_loss: 22.6049 - val_accuracy: 0.7045\n",
            "Epoch 4/30\n",
            "9/9 [==============================] - 0s 25ms/step - loss: 11.5760 - accuracy: 0.8023 - val_loss: 9.0005 - val_accuracy: 0.7273\n",
            "Epoch 5/30\n",
            "9/9 [==============================] - 0s 26ms/step - loss: 2.0680 - accuracy: 0.8023 - val_loss: 4.6121 - val_accuracy: 0.7045\n",
            "Epoch 6/30\n",
            "9/9 [==============================] - 0s 24ms/step - loss: 0.6405 - accuracy: 0.8256 - val_loss: 3.9116 - val_accuracy: 0.6818\n",
            "Epoch 7/30\n",
            "9/9 [==============================] - 0s 17ms/step - loss: 0.4494 - accuracy: 0.8314 - val_loss: 3.9955 - val_accuracy: 0.7045\n",
            "Epoch 8/30\n",
            "9/9 [==============================] - 0s 26ms/step - loss: 0.5732 - accuracy: 0.8837 - val_loss: 3.1035 - val_accuracy: 0.7045\n",
            "Epoch 9/30\n",
            "9/9 [==============================] - 0s 25ms/step - loss: 0.3131 - accuracy: 0.8721 - val_loss: 2.4334 - val_accuracy: 0.7045\n",
            "Epoch 10/30\n",
            "9/9 [==============================] - 0s 15ms/step - loss: 0.3424 - accuracy: 0.8895 - val_loss: 2.6077 - val_accuracy: 0.7045\n",
            "Epoch 11/30\n",
            "9/9 [==============================] - 0s 15ms/step - loss: 0.2750 - accuracy: 0.8663 - val_loss: 3.1338 - val_accuracy: 0.7045\n",
            "Epoch 12/30\n",
            "9/9 [==============================] - 0s 16ms/step - loss: 0.2274 - accuracy: 0.8605 - val_loss: 3.8851 - val_accuracy: 0.7045\n",
            "Epoch 13/30\n",
            "9/9 [==============================] - 0s 16ms/step - loss: 0.2490 - accuracy: 0.8721 - val_loss: 3.9726 - val_accuracy: 0.7045\n",
            "Epoch 14/30\n",
            "9/9 [==============================] - 0s 15ms/step - loss: 0.2228 - accuracy: 0.8779 - val_loss: 3.7849 - val_accuracy: 0.7045\n",
            "Epoch 15/30\n",
            "9/9 [==============================] - 0s 24ms/step - loss: 0.3407 - accuracy: 0.8721 - val_loss: 3.8542 - val_accuracy: 0.7045\n"
          ]
        }
      ]
    },
    {
      "cell_type": "markdown",
      "source": [
        "# Predicción del Modelo"
      ],
      "metadata": {
        "id": "VrmNOLCY04y0"
      }
    },
    {
      "cell_type": "code",
      "source": [
        "y_pred = model.predict(x_test)\n",
        "\n",
        "y_true_labels = np.argmax(y_test, axis=1)\n",
        "y_pred_labels = np.argmax(y_pred, axis=1)\n",
        "\n",
        "accuracy = accuracy_score(y_true_labels, y_pred_labels)\n",
        "print(\"Accuracy: {:.2f}%\".format(accuracy * 100))\n"
      ],
      "metadata": {
        "colab": {
          "base_uri": "https://localhost:8080/"
        },
        "id": "sPNIQMYl0tqY",
        "outputId": "3e5c3e11-07cc-4c43-e7b5-dc05ee27d19a"
      },
      "execution_count": 64,
      "outputs": [
        {
          "output_type": "stream",
          "name": "stdout",
          "text": [
            "2/2 [==============================] - 0s 7ms/step\n",
            "Accuracy: 70.45%\n"
          ]
        }
      ]
    },
    {
      "cell_type": "code",
      "source": [
        "plt.plot(history.history['loss'])\n",
        "plt.plot(history.history['val_loss'])\n",
        "plt.title('Perdida en el Modelo')\n",
        "plt.ylabel('Loss')\n",
        "plt.xlabel('Epoch')\n",
        "plt.legend(['Test', 'Validation'], loc='upper right')\n",
        "plt.show()\n",
        "\n",
        "plt.plot(history.history['accuracy'])\n",
        "plt.plot(history.history['val_accuracy'])\n",
        "plt.title('Accurcy del Modelo')\n",
        "plt.ylabel('accuracy')\n",
        "plt.xlabel('Epoch')\n",
        "plt.legend(['Test', 'Validation'], loc='upper right')\n",
        "plt.show()"
      ],
      "metadata": {
        "colab": {
          "base_uri": "https://localhost:8080/",
          "height": 927
        },
        "id": "Vtv3JV51CKPj",
        "outputId": "555c9816-753c-49ab-8313-906264eaff1d"
      },
      "execution_count": 65,
      "outputs": [
        {
          "output_type": "display_data",
          "data": {
            "text/plain": [
              "<Figure size 640x480 with 1 Axes>"
            ],
            "image/png": "[encoded data removed]"
          },
          "metadata": {}
        },
        {
          "output_type": "display_data",
          "data": {
            "text/plain": [
              "<Figure size 640x480 with 1 Axes>"
            ],
            "image/png": "[encoded data removed]"
          },
          "metadata": {}
        }
      ]
    },
    {
      "cell_type": "code",
      "source": [
        "from sklearn.metrics import confusion_matrix\n",
        "import matplotlib.pyplot as plt\n",
        "import seaborn as sns\n",
        "\n",
        "confusion = confusion_matrix(y_true_labels, y_pred_labels)\n",
        "\n",
        "class_labels = [\"Tumor\", \"Normal\"]\n",
        "\n",
        "plt.figure(figsize=(8, 6))\n",
        "sns.heatmap(confusion, annot=True, fmt=\"d\", cmap=\"Blues\", xticklabels=class_labels, yticklabels=class_labels)\n",
        "plt.xlabel(\"Predicted\")\n",
        "plt.ylabel(\"True\")\n",
        "plt.title(\"Confusion Matrix\")\n",
        "plt.show()"
      ],
      "metadata": {
        "colab": {
          "base_uri": "https://localhost:8080/",
          "height": 564
        },
        "id": "FRuvF213UmA0",
        "outputId": "1e5e4cac-f421-416c-91d9-c21a8db6c9b9"
      },
      "execution_count": 66,
      "outputs": [
        {
          "output_type": "display_data",
          "data": {
            "text/plain": [
              "<Figure size 800x600 with 2 Axes>"
            ],
            "image/png": "[encoded data removed]"
          },
          "metadata": {}
        }
      ]
    },
    {
      "cell_type": "markdown",
      "source": [
        "# Función de Prueba"
      ],
      "metadata": {
        "id": "W9t1Rucwzoj5"
      }
    },
    {
      "cell_type": "code",
      "source": [
        "from keras.preprocessing import image\n",
        "import numpy as np\n",
        "\n",
        "def load_and_predict(model, image_path):\n",
        "    img = image.load_img(image_path, target_size=(128, 128))\n",
        "    img_array = image.img_to_array(img)\n",
        "    img_array = np.expand_dims(img_array, axis=0)\n",
        "    img_array /= 255.0\n",
        "    prediction = model.predict(img_array)\n",
        "\n",
        "    predicted_class = np.argmax(prediction)\n",
        "\n",
        "    if predicted_class == 0:\n",
        "        print(\"Prediction: No Tumor\")\n",
        "    else:\n",
        "        print(\"Prediction: Tumor\")\n",
        "\n",
        "#Direccion de imagen de prueba\n",
        "load_and_predict(model, \"/content/gdrive/MyDrive/ENTREGABLE_CNN/brain_tumor_dataset/brain_tumor_dataset/no/3 no.jpg\")\n"
      ],
      "metadata": {
        "colab": {
          "base_uri": "https://localhost:8080/"
        },
        "id": "dPYNQ0b_5F2b",
        "outputId": "829c4fd0-3461-4393-d504-9112b32cc6f2"
      },
      "execution_count": 72,
      "outputs": [
        {
          "output_type": "stream",
          "name": "stdout",
          "text": [
            "1/1 [==============================] - 0s 17ms/step\n",
            "Prediction: No Tumor\n"
          ]
        }
      ]
    }
  ]
}